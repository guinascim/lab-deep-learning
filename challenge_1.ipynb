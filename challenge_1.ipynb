{
  "cells": [
    {
      "cell_type": "code",
      "source": [
        "import pandas as pd\n",
        "from sklearn.model_selection import train_test_split\n",
        "from sklearn.preprocessing import LabelEncoder, StandardScaler"
      ],
      "metadata": {
        "id": "5uF3gSx2ZOxg"
      },
      "execution_count": 1,
      "outputs": []
    },
    {
      "cell_type": "markdown",
      "metadata": {
        "id": "0Ci1XAaeY3s8"
      },
      "source": [
        "# Challenge 1 - Tic Tac Toe\n",
        "\n",
        "In this lab you will perform deep learning analysis on a dataset of playing [Tic Tac Toe](https://en.wikipedia.org/wiki/Tic-tac-toe).\n",
        "\n",
        "There are 9 grids in Tic Tac Toe that are coded as the following picture shows:\n",
        "\n",
        "![Tic Tac Toe Grids](tttboard.jpg)\n",
        "\n",
        "In the first 9 columns of the dataset you can find which marks (`x` or `o`) exist in the grids. If there is no mark in a certain grid, it is labeled as `b`. The last column is `class` which tells you whether Player X (who always moves first in Tic Tac Toe) wins in this configuration. Note that when `class` has the value `False`, it means either Player O wins the game or it ends up as a draw."
      ]
    },
    {
      "cell_type": "markdown",
      "metadata": {
        "id": "G13WdtFRY3s-"
      },
      "source": [
        "Follow the steps suggested below to conduct a neural network analysis using Tensorflow and Keras. You will build a deep learning model to predict whether Player X wins the game or not.\n",
        "\n",
        "## Step 1: Data Engineering\n",
        "\n",
        "This dataset is almost in the ready-to-use state so you do not need to worry about missing values and so on. Still, some simple data engineering is needed.\n",
        "\n",
        "1. Read `tic-tac-toe.csv` into a dataframe.\n",
        "1. Inspect the dataset. Determine if the dataset is reliable by eyeballing the data.\n",
        "1. Convert the categorical values to numeric in all columns.\n",
        "1. Separate the inputs and output.\n",
        "1. Normalize the input data."
      ]
    },
    {
      "cell_type": "code",
      "source": [
        "from google.colab import drive\n",
        "drive.mount('/content/drive')"
      ],
      "metadata": {
        "colab": {
          "base_uri": "https://localhost:8080/"
        },
        "id": "cyiD-yePZbv2",
        "outputId": "a13c8004-ecf4-428a-f36c-578915fa73a3"
      },
      "execution_count": 2,
      "outputs": [
        {
          "output_type": "stream",
          "name": "stdout",
          "text": [
            "Mounted at /content/drive\n"
          ]
        }
      ]
    },
    {
      "cell_type": "code",
      "execution_count": 3,
      "metadata": {
        "id": "j4a4SpRzY3s-"
      },
      "outputs": [],
      "source": [
        "df = pd.read_csv(\"/content/drive/MyDrive/Week 8/lab3-deep-learning-master/your-code/tic-tac-toe.csv\")"
      ]
    },
    {
      "cell_type": "code",
      "source": [
        "df.head()"
      ],
      "metadata": {
        "colab": {
          "base_uri": "https://localhost:8080/",
          "height": 206
        },
        "id": "JUWES9ZUZwBK",
        "outputId": "b22887d3-a633-4127-ecaf-c92364411877"
      },
      "execution_count": 4,
      "outputs": [
        {
          "output_type": "execute_result",
          "data": {
            "text/plain": [
              "  TL TM TR ML MM MR BL BM BR  class\n",
              "0  x  x  x  x  o  o  x  o  o   True\n",
              "1  x  x  x  x  o  o  o  x  o   True\n",
              "2  x  x  x  x  o  o  o  o  x   True\n",
              "3  x  x  x  x  o  o  o  b  b   True\n",
              "4  x  x  x  x  o  o  b  o  b   True"
            ],
            "text/html": [
              "\n",
              "  <div id=\"df-0e383822-431c-4ba0-90af-142b26dec0e7\" class=\"colab-df-container\">\n",
              "    <div>\n",
              "<style scoped>\n",
              "    .dataframe tbody tr th:only-of-type {\n",
              "        vertical-align: middle;\n",
              "    }\n",
              "\n",
              "    .dataframe tbody tr th {\n",
              "        vertical-align: top;\n",
              "    }\n",
              "\n",
              "    .dataframe thead th {\n",
              "        text-align: right;\n",
              "    }\n",
              "</style>\n",
              "<table border=\"1\" class=\"dataframe\">\n",
              "  <thead>\n",
              "    <tr style=\"text-align: right;\">\n",
              "      <th></th>\n",
              "      <th>TL</th>\n",
              "      <th>TM</th>\n",
              "      <th>TR</th>\n",
              "      <th>ML</th>\n",
              "      <th>MM</th>\n",
              "      <th>MR</th>\n",
              "      <th>BL</th>\n",
              "      <th>BM</th>\n",
              "      <th>BR</th>\n",
              "      <th>class</th>\n",
              "    </tr>\n",
              "  </thead>\n",
              "  <tbody>\n",
              "    <tr>\n",
              "      <th>0</th>\n",
              "      <td>x</td>\n",
              "      <td>x</td>\n",
              "      <td>x</td>\n",
              "      <td>x</td>\n",
              "      <td>o</td>\n",
              "      <td>o</td>\n",
              "      <td>x</td>\n",
              "      <td>o</td>\n",
              "      <td>o</td>\n",
              "      <td>True</td>\n",
              "    </tr>\n",
              "    <tr>\n",
              "      <th>1</th>\n",
              "      <td>x</td>\n",
              "      <td>x</td>\n",
              "      <td>x</td>\n",
              "      <td>x</td>\n",
              "      <td>o</td>\n",
              "      <td>o</td>\n",
              "      <td>o</td>\n",
              "      <td>x</td>\n",
              "      <td>o</td>\n",
              "      <td>True</td>\n",
              "    </tr>\n",
              "    <tr>\n",
              "      <th>2</th>\n",
              "      <td>x</td>\n",
              "      <td>x</td>\n",
              "      <td>x</td>\n",
              "      <td>x</td>\n",
              "      <td>o</td>\n",
              "      <td>o</td>\n",
              "      <td>o</td>\n",
              "      <td>o</td>\n",
              "      <td>x</td>\n",
              "      <td>True</td>\n",
              "    </tr>\n",
              "    <tr>\n",
              "      <th>3</th>\n",
              "      <td>x</td>\n",
              "      <td>x</td>\n",
              "      <td>x</td>\n",
              "      <td>x</td>\n",
              "      <td>o</td>\n",
              "      <td>o</td>\n",
              "      <td>o</td>\n",
              "      <td>b</td>\n",
              "      <td>b</td>\n",
              "      <td>True</td>\n",
              "    </tr>\n",
              "    <tr>\n",
              "      <th>4</th>\n",
              "      <td>x</td>\n",
              "      <td>x</td>\n",
              "      <td>x</td>\n",
              "      <td>x</td>\n",
              "      <td>o</td>\n",
              "      <td>o</td>\n",
              "      <td>b</td>\n",
              "      <td>o</td>\n",
              "      <td>b</td>\n",
              "      <td>True</td>\n",
              "    </tr>\n",
              "  </tbody>\n",
              "</table>\n",
              "</div>\n",
              "    <div class=\"colab-df-buttons\">\n",
              "\n",
              "  <div class=\"colab-df-container\">\n",
              "    <button class=\"colab-df-convert\" onclick=\"convertToInteractive('df-0e383822-431c-4ba0-90af-142b26dec0e7')\"\n",
              "            title=\"Convert this dataframe to an interactive table.\"\n",
              "            style=\"display:none;\">\n",
              "\n",
              "  <svg xmlns=\"http://www.w3.org/2000/svg\" height=\"24px\" viewBox=\"0 -960 960 960\">\n",
              "    <path d=\"M120-120v-720h720v720H120Zm60-500h600v-160H180v160Zm220 220h160v-160H400v160Zm0 220h160v-160H400v160ZM180-400h160v-160H180v160Zm440 0h160v-160H620v160ZM180-180h160v-160H180v160Zm440 0h160v-160H620v160Z\"/>\n",
              "  </svg>\n",
              "    </button>\n",
              "\n",
              "  <style>\n",
              "    .colab-df-container {\n",
              "      display:flex;\n",
              "      gap: 12px;\n",
              "    }\n",
              "\n",
              "    .colab-df-convert {\n",
              "      background-color: #E8F0FE;\n",
              "      border: none;\n",
              "      border-radius: 50%;\n",
              "      cursor: pointer;\n",
              "      display: none;\n",
              "      fill: #1967D2;\n",
              "      height: 32px;\n",
              "      padding: 0 0 0 0;\n",
              "      width: 32px;\n",
              "    }\n",
              "\n",
              "    .colab-df-convert:hover {\n",
              "      background-color: #E2EBFA;\n",
              "      box-shadow: 0px 1px 2px rgba(60, 64, 67, 0.3), 0px 1px 3px 1px rgba(60, 64, 67, 0.15);\n",
              "      fill: #174EA6;\n",
              "    }\n",
              "\n",
              "    .colab-df-buttons div {\n",
              "      margin-bottom: 4px;\n",
              "    }\n",
              "\n",
              "    [theme=dark] .colab-df-convert {\n",
              "      background-color: #3B4455;\n",
              "      fill: #D2E3FC;\n",
              "    }\n",
              "\n",
              "    [theme=dark] .colab-df-convert:hover {\n",
              "      background-color: #434B5C;\n",
              "      box-shadow: 0px 1px 3px 1px rgba(0, 0, 0, 0.15);\n",
              "      filter: drop-shadow(0px 1px 2px rgba(0, 0, 0, 0.3));\n",
              "      fill: #FFFFFF;\n",
              "    }\n",
              "  </style>\n",
              "\n",
              "    <script>\n",
              "      const buttonEl =\n",
              "        document.querySelector('#df-0e383822-431c-4ba0-90af-142b26dec0e7 button.colab-df-convert');\n",
              "      buttonEl.style.display =\n",
              "        google.colab.kernel.accessAllowed ? 'block' : 'none';\n",
              "\n",
              "      async function convertToInteractive(key) {\n",
              "        const element = document.querySelector('#df-0e383822-431c-4ba0-90af-142b26dec0e7');\n",
              "        const dataTable =\n",
              "          await google.colab.kernel.invokeFunction('convertToInteractive',\n",
              "                                                    [key], {});\n",
              "        if (!dataTable) return;\n",
              "\n",
              "        const docLinkHtml = 'Like what you see? Visit the ' +\n",
              "          '<a target=\"_blank\" href=https://colab.research.google.com/notebooks/data_table.ipynb>data table notebook</a>'\n",
              "          + ' to learn more about interactive tables.';\n",
              "        element.innerHTML = '';\n",
              "        dataTable['output_type'] = 'display_data';\n",
              "        await google.colab.output.renderOutput(dataTable, element);\n",
              "        const docLink = document.createElement('div');\n",
              "        docLink.innerHTML = docLinkHtml;\n",
              "        element.appendChild(docLink);\n",
              "      }\n",
              "    </script>\n",
              "  </div>\n",
              "\n",
              "\n",
              "<div id=\"df-9a4dbe12-7d56-4d71-aeb1-d0ff91c7876a\">\n",
              "  <button class=\"colab-df-quickchart\" onclick=\"quickchart('df-9a4dbe12-7d56-4d71-aeb1-d0ff91c7876a')\"\n",
              "            title=\"Suggest charts\"\n",
              "            style=\"display:none;\">\n",
              "\n",
              "<svg xmlns=\"http://www.w3.org/2000/svg\" height=\"24px\"viewBox=\"0 0 24 24\"\n",
              "     width=\"24px\">\n",
              "    <g>\n",
              "        <path d=\"M19 3H5c-1.1 0-2 .9-2 2v14c0 1.1.9 2 2 2h14c1.1 0 2-.9 2-2V5c0-1.1-.9-2-2-2zM9 17H7v-7h2v7zm4 0h-2V7h2v10zm4 0h-2v-4h2v4z\"/>\n",
              "    </g>\n",
              "</svg>\n",
              "  </button>\n",
              "\n",
              "<style>\n",
              "  .colab-df-quickchart {\n",
              "      --bg-color: #E8F0FE;\n",
              "      --fill-color: #1967D2;\n",
              "      --hover-bg-color: #E2EBFA;\n",
              "      --hover-fill-color: #174EA6;\n",
              "      --disabled-fill-color: #AAA;\n",
              "      --disabled-bg-color: #DDD;\n",
              "  }\n",
              "\n",
              "  [theme=dark] .colab-df-quickchart {\n",
              "      --bg-color: #3B4455;\n",
              "      --fill-color: #D2E3FC;\n",
              "      --hover-bg-color: #434B5C;\n",
              "      --hover-fill-color: #FFFFFF;\n",
              "      --disabled-bg-color: #3B4455;\n",
              "      --disabled-fill-color: #666;\n",
              "  }\n",
              "\n",
              "  .colab-df-quickchart {\n",
              "    background-color: var(--bg-color);\n",
              "    border: none;\n",
              "    border-radius: 50%;\n",
              "    cursor: pointer;\n",
              "    display: none;\n",
              "    fill: var(--fill-color);\n",
              "    height: 32px;\n",
              "    padding: 0;\n",
              "    width: 32px;\n",
              "  }\n",
              "\n",
              "  .colab-df-quickchart:hover {\n",
              "    background-color: var(--hover-bg-color);\n",
              "    box-shadow: 0 1px 2px rgba(60, 64, 67, 0.3), 0 1px 3px 1px rgba(60, 64, 67, 0.15);\n",
              "    fill: var(--button-hover-fill-color);\n",
              "  }\n",
              "\n",
              "  .colab-df-quickchart-complete:disabled,\n",
              "  .colab-df-quickchart-complete:disabled:hover {\n",
              "    background-color: var(--disabled-bg-color);\n",
              "    fill: var(--disabled-fill-color);\n",
              "    box-shadow: none;\n",
              "  }\n",
              "\n",
              "  .colab-df-spinner {\n",
              "    border: 2px solid var(--fill-color);\n",
              "    border-color: transparent;\n",
              "    border-bottom-color: var(--fill-color);\n",
              "    animation:\n",
              "      spin 1s steps(1) infinite;\n",
              "  }\n",
              "\n",
              "  @keyframes spin {\n",
              "    0% {\n",
              "      border-color: transparent;\n",
              "      border-bottom-color: var(--fill-color);\n",
              "      border-left-color: var(--fill-color);\n",
              "    }\n",
              "    20% {\n",
              "      border-color: transparent;\n",
              "      border-left-color: var(--fill-color);\n",
              "      border-top-color: var(--fill-color);\n",
              "    }\n",
              "    30% {\n",
              "      border-color: transparent;\n",
              "      border-left-color: var(--fill-color);\n",
              "      border-top-color: var(--fill-color);\n",
              "      border-right-color: var(--fill-color);\n",
              "    }\n",
              "    40% {\n",
              "      border-color: transparent;\n",
              "      border-right-color: var(--fill-color);\n",
              "      border-top-color: var(--fill-color);\n",
              "    }\n",
              "    60% {\n",
              "      border-color: transparent;\n",
              "      border-right-color: var(--fill-color);\n",
              "    }\n",
              "    80% {\n",
              "      border-color: transparent;\n",
              "      border-right-color: var(--fill-color);\n",
              "      border-bottom-color: var(--fill-color);\n",
              "    }\n",
              "    90% {\n",
              "      border-color: transparent;\n",
              "      border-bottom-color: var(--fill-color);\n",
              "    }\n",
              "  }\n",
              "</style>\n",
              "\n",
              "  <script>\n",
              "    async function quickchart(key) {\n",
              "      const quickchartButtonEl =\n",
              "        document.querySelector('#' + key + ' button');\n",
              "      quickchartButtonEl.disabled = true;  // To prevent multiple clicks.\n",
              "      quickchartButtonEl.classList.add('colab-df-spinner');\n",
              "      try {\n",
              "        const charts = await google.colab.kernel.invokeFunction(\n",
              "            'suggestCharts', [key], {});\n",
              "      } catch (error) {\n",
              "        console.error('Error during call to suggestCharts:', error);\n",
              "      }\n",
              "      quickchartButtonEl.classList.remove('colab-df-spinner');\n",
              "      quickchartButtonEl.classList.add('colab-df-quickchart-complete');\n",
              "    }\n",
              "    (() => {\n",
              "      let quickchartButtonEl =\n",
              "        document.querySelector('#df-9a4dbe12-7d56-4d71-aeb1-d0ff91c7876a button');\n",
              "      quickchartButtonEl.style.display =\n",
              "        google.colab.kernel.accessAllowed ? 'block' : 'none';\n",
              "    })();\n",
              "  </script>\n",
              "</div>\n",
              "    </div>\n",
              "  </div>\n"
            ],
            "application/vnd.google.colaboratory.intrinsic+json": {
              "type": "dataframe",
              "variable_name": "df",
              "summary": "{\n  \"name\": \"df\",\n  \"rows\": 958,\n  \"fields\": [\n    {\n      \"column\": \"TL\",\n      \"properties\": {\n        \"dtype\": \"category\",\n        \"num_unique_values\": 3,\n        \"samples\": [\n          \"x\",\n          \"o\",\n          \"b\"\n        ],\n        \"semantic_type\": \"\",\n        \"description\": \"\"\n      }\n    },\n    {\n      \"column\": \"TM\",\n      \"properties\": {\n        \"dtype\": \"category\",\n        \"num_unique_values\": 3,\n        \"samples\": [\n          \"x\",\n          \"o\",\n          \"b\"\n        ],\n        \"semantic_type\": \"\",\n        \"description\": \"\"\n      }\n    },\n    {\n      \"column\": \"TR\",\n      \"properties\": {\n        \"dtype\": \"category\",\n        \"num_unique_values\": 3,\n        \"samples\": [\n          \"x\",\n          \"o\",\n          \"b\"\n        ],\n        \"semantic_type\": \"\",\n        \"description\": \"\"\n      }\n    },\n    {\n      \"column\": \"ML\",\n      \"properties\": {\n        \"dtype\": \"category\",\n        \"num_unique_values\": 3,\n        \"samples\": [\n          \"x\",\n          \"o\",\n          \"b\"\n        ],\n        \"semantic_type\": \"\",\n        \"description\": \"\"\n      }\n    },\n    {\n      \"column\": \"MM\",\n      \"properties\": {\n        \"dtype\": \"category\",\n        \"num_unique_values\": 3,\n        \"samples\": [\n          \"o\",\n          \"b\",\n          \"x\"\n        ],\n        \"semantic_type\": \"\",\n        \"description\": \"\"\n      }\n    },\n    {\n      \"column\": \"MR\",\n      \"properties\": {\n        \"dtype\": \"category\",\n        \"num_unique_values\": 3,\n        \"samples\": [\n          \"o\",\n          \"b\",\n          \"x\"\n        ],\n        \"semantic_type\": \"\",\n        \"description\": \"\"\n      }\n    },\n    {\n      \"column\": \"BL\",\n      \"properties\": {\n        \"dtype\": \"category\",\n        \"num_unique_values\": 3,\n        \"samples\": [\n          \"x\",\n          \"o\",\n          \"b\"\n        ],\n        \"semantic_type\": \"\",\n        \"description\": \"\"\n      }\n    },\n    {\n      \"column\": \"BM\",\n      \"properties\": {\n        \"dtype\": \"category\",\n        \"num_unique_values\": 3,\n        \"samples\": [\n          \"o\",\n          \"x\",\n          \"b\"\n        ],\n        \"semantic_type\": \"\",\n        \"description\": \"\"\n      }\n    },\n    {\n      \"column\": \"BR\",\n      \"properties\": {\n        \"dtype\": \"category\",\n        \"num_unique_values\": 3,\n        \"samples\": [\n          \"o\",\n          \"x\",\n          \"b\"\n        ],\n        \"semantic_type\": \"\",\n        \"description\": \"\"\n      }\n    },\n    {\n      \"column\": \"class\",\n      \"properties\": {\n        \"dtype\": \"boolean\",\n        \"num_unique_values\": 2,\n        \"samples\": [\n          false,\n          true\n        ],\n        \"semantic_type\": \"\",\n        \"description\": \"\"\n      }\n    }\n  ]\n}"
            }
          },
          "metadata": {},
          "execution_count": 4
        }
      ]
    },
    {
      "cell_type": "code",
      "source": [
        "df.shape"
      ],
      "metadata": {
        "colab": {
          "base_uri": "https://localhost:8080/"
        },
        "id": "OOf7UCINZ0Yk",
        "outputId": "20906ec0-241e-479c-e33a-5443caafa35d"
      },
      "execution_count": 5,
      "outputs": [
        {
          "output_type": "execute_result",
          "data": {
            "text/plain": [
              "(958, 10)"
            ]
          },
          "metadata": {},
          "execution_count": 5
        }
      ]
    },
    {
      "cell_type": "code",
      "source": [
        "df.info()"
      ],
      "metadata": {
        "colab": {
          "base_uri": "https://localhost:8080/"
        },
        "id": "3qgZ_Ua6Z3B_",
        "outputId": "104cf537-4100-4522-deb6-97a910696ea6"
      },
      "execution_count": 6,
      "outputs": [
        {
          "output_type": "stream",
          "name": "stdout",
          "text": [
            "<class 'pandas.core.frame.DataFrame'>\n",
            "RangeIndex: 958 entries, 0 to 957\n",
            "Data columns (total 10 columns):\n",
            " #   Column  Non-Null Count  Dtype \n",
            "---  ------  --------------  ----- \n",
            " 0   TL      958 non-null    object\n",
            " 1   TM      958 non-null    object\n",
            " 2   TR      958 non-null    object\n",
            " 3   ML      958 non-null    object\n",
            " 4   MM      958 non-null    object\n",
            " 5   MR      958 non-null    object\n",
            " 6   BL      958 non-null    object\n",
            " 7   BM      958 non-null    object\n",
            " 8   BR      958 non-null    object\n",
            " 9   class   958 non-null    bool  \n",
            "dtypes: bool(1), object(9)\n",
            "memory usage: 68.4+ KB\n"
          ]
        }
      ]
    },
    {
      "cell_type": "code",
      "source": [
        "label_encoder = LabelEncoder()\n",
        "df_encoded = df.apply(label_encoder.fit_transform)"
      ],
      "metadata": {
        "id": "H9gKYd7IZ5Y3"
      },
      "execution_count": 7,
      "outputs": []
    },
    {
      "cell_type": "code",
      "source": [
        "X = df_encoded.iloc[:, :-1]\n",
        "y = df_encoded.iloc[:, -1]"
      ],
      "metadata": {
        "id": "74uLG6oKZ89y"
      },
      "execution_count": 8,
      "outputs": []
    },
    {
      "cell_type": "code",
      "source": [
        "scaler = StandardScaler()\n",
        "X_normalized = scaler.fit_transform(X)"
      ],
      "metadata": {
        "id": "JQyj3ck3aA9v"
      },
      "execution_count": 9,
      "outputs": []
    },
    {
      "cell_type": "markdown",
      "metadata": {
        "id": "NJZ5VHNoY3s_"
      },
      "source": [
        "## Step 2: Build Neural Network\n",
        "\n",
        "To build the neural network, you can refer to your own codes you wrote while following the [Deep Learning with Python, TensorFlow, and Keras tutorial](https://www.youtube.com/watch?v=wQ8BIBpya2k) in the lesson. It's pretty similar to what you will be doing in this lab.\n",
        "\n",
        "1. Split the training and test data.\n",
        "1. Create a `Sequential` model.\n",
        "1. Add several layers to your model. Make sure you use ReLU as the activation function for the middle layers. Use Softmax for the output layer because each output has a single lable and all the label probabilities add up to 1.\n",
        "1. Compile the model using `adam` as the optimizer and `sparse_categorical_crossentropy` as the loss function. For metrics, use `accuracy` for now.\n",
        "1. Fit the training data.\n",
        "1. Evaluate your neural network model with the test data.\n",
        "1. Save your model as `tic-tac-toe.model`."
      ]
    },
    {
      "cell_type": "code",
      "source": [
        "import tensorflow as tf\n",
        "from tensorflow.keras.models import Sequential\n",
        "from tensorflow.keras.layers import Dense"
      ],
      "metadata": {
        "id": "Nh0ZnQsaaSrV"
      },
      "execution_count": 15,
      "outputs": []
    },
    {
      "cell_type": "code",
      "execution_count": 16,
      "metadata": {
        "id": "iVdGQNFNY3s_"
      },
      "outputs": [],
      "source": [
        "X_train, X_test, y_train, y_test = train_test_split(X_normalized, y, test_size=0.2, random_state=42)"
      ]
    },
    {
      "cell_type": "code",
      "source": [
        "model = Sequential()"
      ],
      "metadata": {
        "id": "cWG4oo2iah4P"
      },
      "execution_count": 17,
      "outputs": []
    },
    {
      "cell_type": "code",
      "source": [
        "model.add(Dense(64, activation='relu', input_shape=(X_train.shape[1],)))\n",
        "model.add(Dense(32, activation='relu'))\n",
        "model.add(Dense(16, activation='relu'))\n",
        "model.add(Dense(2, activation='softmax'))"
      ],
      "metadata": {
        "id": "_Oa07NYRal7d"
      },
      "execution_count": 18,
      "outputs": []
    },
    {
      "cell_type": "code",
      "source": [
        "model.compile(optimizer='adam', loss='sparse_categorical_crossentropy', metrics=['accuracy'])"
      ],
      "metadata": {
        "id": "haqJnJhgarqf"
      },
      "execution_count": 20,
      "outputs": []
    },
    {
      "cell_type": "code",
      "source": [
        "model.fit(X_train, y_train, epochs=50, batch_size=32, verbose=1)"
      ],
      "metadata": {
        "colab": {
          "base_uri": "https://localhost:8080/"
        },
        "id": "lruxB_nTawws",
        "outputId": "c410fa71-8d23-4b22-9da4-f1b50e5a193c"
      },
      "execution_count": 21,
      "outputs": [
        {
          "output_type": "stream",
          "name": "stdout",
          "text": [
            "Epoch 1/50\n",
            "24/24 [==============================] - 1s 2ms/step - loss: 0.6313 - accuracy: 0.6488\n",
            "Epoch 2/50\n",
            "24/24 [==============================] - 0s 1ms/step - loss: 0.5921 - accuracy: 0.6697\n",
            "Epoch 3/50\n",
            "24/24 [==============================] - 0s 1ms/step - loss: 0.5616 - accuracy: 0.7115\n",
            "Epoch 4/50\n",
            "24/24 [==============================] - 0s 1ms/step - loss: 0.5298 - accuracy: 0.7572\n",
            "Epoch 5/50\n",
            "24/24 [==============================] - 0s 1ms/step - loss: 0.4977 - accuracy: 0.7689\n",
            "Epoch 6/50\n",
            "24/24 [==============================] - 0s 1ms/step - loss: 0.4633 - accuracy: 0.8042\n",
            "Epoch 7/50\n",
            "24/24 [==============================] - 0s 1ms/step - loss: 0.4284 - accuracy: 0.8225\n",
            "Epoch 8/50\n",
            "24/24 [==============================] - 0s 1ms/step - loss: 0.3962 - accuracy: 0.8355\n",
            "Epoch 9/50\n",
            "24/24 [==============================] - 0s 1ms/step - loss: 0.3649 - accuracy: 0.8590\n",
            "Epoch 10/50\n",
            "24/24 [==============================] - 0s 2ms/step - loss: 0.3347 - accuracy: 0.8721\n",
            "Epoch 11/50\n",
            "24/24 [==============================] - 0s 1ms/step - loss: 0.3119 - accuracy: 0.8864\n",
            "Epoch 12/50\n",
            "24/24 [==============================] - 0s 1ms/step - loss: 0.2858 - accuracy: 0.8930\n",
            "Epoch 13/50\n",
            "24/24 [==============================] - 0s 1ms/step - loss: 0.2646 - accuracy: 0.9008\n",
            "Epoch 14/50\n",
            "24/24 [==============================] - 0s 1ms/step - loss: 0.2441 - accuracy: 0.9151\n",
            "Epoch 15/50\n",
            "24/24 [==============================] - 0s 1ms/step - loss: 0.2215 - accuracy: 0.9230\n",
            "Epoch 16/50\n",
            "24/24 [==============================] - 0s 1ms/step - loss: 0.2009 - accuracy: 0.9308\n",
            "Epoch 17/50\n",
            "24/24 [==============================] - 0s 1ms/step - loss: 0.1866 - accuracy: 0.9399\n",
            "Epoch 18/50\n",
            "24/24 [==============================] - 0s 1ms/step - loss: 0.1660 - accuracy: 0.9504\n",
            "Epoch 19/50\n",
            "24/24 [==============================] - 0s 1ms/step - loss: 0.1516 - accuracy: 0.9608\n",
            "Epoch 20/50\n",
            "24/24 [==============================] - 0s 1ms/step - loss: 0.1368 - accuracy: 0.9582\n",
            "Epoch 21/50\n",
            "24/24 [==============================] - 0s 1ms/step - loss: 0.1233 - accuracy: 0.9700\n",
            "Epoch 22/50\n",
            "24/24 [==============================] - 0s 1ms/step - loss: 0.1095 - accuracy: 0.9713\n",
            "Epoch 23/50\n",
            "24/24 [==============================] - 0s 1ms/step - loss: 0.1014 - accuracy: 0.9726\n",
            "Epoch 24/50\n",
            "24/24 [==============================] - 0s 1ms/step - loss: 0.0977 - accuracy: 0.9713\n",
            "Epoch 25/50\n",
            "24/24 [==============================] - 0s 1ms/step - loss: 0.0808 - accuracy: 0.9791\n",
            "Epoch 26/50\n",
            "24/24 [==============================] - 0s 1ms/step - loss: 0.0713 - accuracy: 0.9856\n",
            "Epoch 27/50\n",
            "24/24 [==============================] - 0s 1ms/step - loss: 0.0640 - accuracy: 0.9896\n",
            "Epoch 28/50\n",
            "24/24 [==============================] - 0s 1ms/step - loss: 0.0568 - accuracy: 0.9922\n",
            "Epoch 29/50\n",
            "24/24 [==============================] - 0s 1ms/step - loss: 0.0477 - accuracy: 0.9948\n",
            "Epoch 30/50\n",
            "24/24 [==============================] - 0s 1ms/step - loss: 0.0433 - accuracy: 0.9974\n",
            "Epoch 31/50\n",
            "24/24 [==============================] - 0s 1ms/step - loss: 0.0370 - accuracy: 0.9987\n",
            "Epoch 32/50\n",
            "24/24 [==============================] - 0s 1ms/step - loss: 0.0333 - accuracy: 1.0000\n",
            "Epoch 33/50\n",
            "24/24 [==============================] - 0s 1ms/step - loss: 0.0295 - accuracy: 1.0000\n",
            "Epoch 34/50\n",
            "24/24 [==============================] - 0s 1ms/step - loss: 0.0254 - accuracy: 1.0000\n",
            "Epoch 35/50\n",
            "24/24 [==============================] - 0s 1ms/step - loss: 0.0242 - accuracy: 1.0000\n",
            "Epoch 36/50\n",
            "24/24 [==============================] - 0s 1ms/step - loss: 0.0210 - accuracy: 1.0000\n",
            "Epoch 37/50\n",
            "24/24 [==============================] - 0s 1ms/step - loss: 0.0182 - accuracy: 1.0000\n",
            "Epoch 38/50\n",
            "24/24 [==============================] - 0s 1ms/step - loss: 0.0172 - accuracy: 1.0000\n",
            "Epoch 39/50\n",
            "24/24 [==============================] - 0s 2ms/step - loss: 0.0161 - accuracy: 1.0000\n",
            "Epoch 40/50\n",
            "24/24 [==============================] - 0s 1ms/step - loss: 0.0144 - accuracy: 1.0000\n",
            "Epoch 41/50\n",
            "24/24 [==============================] - 0s 1ms/step - loss: 0.0123 - accuracy: 1.0000\n",
            "Epoch 42/50\n",
            "24/24 [==============================] - 0s 1ms/step - loss: 0.0114 - accuracy: 1.0000\n",
            "Epoch 43/50\n",
            "24/24 [==============================] - 0s 1ms/step - loss: 0.0108 - accuracy: 1.0000\n",
            "Epoch 44/50\n",
            "24/24 [==============================] - 0s 1ms/step - loss: 0.0096 - accuracy: 1.0000\n",
            "Epoch 45/50\n",
            "24/24 [==============================] - 0s 1ms/step - loss: 0.0087 - accuracy: 1.0000\n",
            "Epoch 46/50\n",
            "24/24 [==============================] - 0s 1ms/step - loss: 0.0080 - accuracy: 1.0000\n",
            "Epoch 47/50\n",
            "24/24 [==============================] - 0s 1ms/step - loss: 0.0074 - accuracy: 1.0000\n",
            "Epoch 48/50\n",
            "24/24 [==============================] - 0s 1ms/step - loss: 0.0067 - accuracy: 1.0000\n",
            "Epoch 49/50\n",
            "24/24 [==============================] - 0s 1ms/step - loss: 0.0067 - accuracy: 1.0000\n",
            "Epoch 50/50\n",
            "24/24 [==============================] - 0s 1ms/step - loss: 0.0060 - accuracy: 1.0000\n"
          ]
        },
        {
          "output_type": "execute_result",
          "data": {
            "text/plain": [
              "<keras.src.callbacks.History at 0x7d2844c53790>"
            ]
          },
          "metadata": {},
          "execution_count": 21
        }
      ]
    },
    {
      "cell_type": "code",
      "source": [
        "test_loss, test_accuracy = model.evaluate(X_test, y_test)"
      ],
      "metadata": {
        "colab": {
          "base_uri": "https://localhost:8080/"
        },
        "id": "MD-3qFGha82o",
        "outputId": "980098a2-0c7b-464e-e9e5-25f4bb075941"
      },
      "execution_count": 22,
      "outputs": [
        {
          "output_type": "stream",
          "name": "stdout",
          "text": [
            "6/6 [==============================] - 0s 2ms/step - loss: 0.1497 - accuracy: 0.9375\n"
          ]
        }
      ]
    },
    {
      "cell_type": "code",
      "source": [
        "test_accuracy"
      ],
      "metadata": {
        "colab": {
          "base_uri": "https://localhost:8080/"
        },
        "id": "VKonX_KXbAXz",
        "outputId": "bd60ad47-7c50-4603-ee03-0df287afb169"
      },
      "execution_count": 23,
      "outputs": [
        {
          "output_type": "execute_result",
          "data": {
            "text/plain": [
              "0.9375"
            ]
          },
          "metadata": {},
          "execution_count": 23
        }
      ]
    },
    {
      "cell_type": "code",
      "source": [
        "model.save(\"tic-tac-toe.model\")"
      ],
      "metadata": {
        "id": "ulZlwzxNawQj"
      },
      "execution_count": 24,
      "outputs": []
    },
    {
      "cell_type": "markdown",
      "metadata": {
        "id": "u7Pt8S_sY3s_"
      },
      "source": [
        "## Step 3: Make Predictions\n",
        "\n",
        "Now load your saved model and use it to make predictions on a few random rows in the test dataset. Check if the predictions are correct."
      ]
    },
    {
      "cell_type": "code",
      "execution_count": 25,
      "metadata": {
        "id": "G61e-mRkY3s_"
      },
      "outputs": [],
      "source": [
        "loaded_model = tf.keras.models.load_model(\"tic-tac-toe.model\")"
      ]
    },
    {
      "cell_type": "code",
      "source": [
        "random_indices = [10, 20, 30]\n",
        "random_samples = X_test[random_indices]\n",
        "predictions = loaded_model.predict(random_samples)\n",
        "\n",
        "for i, pred in zip(random_indices, predictions):\n",
        "    print(f\"Row {i}: Prediction - {pred.argmax()}, Actual - {y_test.iloc[i]}\")"
      ],
      "metadata": {
        "colab": {
          "base_uri": "https://localhost:8080/"
        },
        "id": "z0edUdOgbUrb",
        "outputId": "c46a4c34-a7a6-41c7-d940-2757ef1af885"
      },
      "execution_count": 26,
      "outputs": [
        {
          "output_type": "stream",
          "name": "stdout",
          "text": [
            "1/1 [==============================] - 0s 67ms/step\n",
            "Row 10: Prediction - 1, Actual - 1\n",
            "Row 20: Prediction - 0, Actual - 0\n",
            "Row 30: Prediction - 1, Actual - 1\n"
          ]
        }
      ]
    },
    {
      "cell_type": "markdown",
      "metadata": {
        "id": "RUUX9rWoY3tA"
      },
      "source": [
        "## Step 4: Improve Your Model\n",
        "\n",
        "Did your model achieve low loss (<0.1) and high accuracy (>0.95)? If not, try to improve your model.\n",
        "\n",
        "But how? There are so many things you can play with in Tensorflow and in the next challenge you'll learn about these things. But in this challenge, let's just do a few things to see if they will help.\n",
        "\n",
        "* Add more layers to your model. If the data are complex you need more layers. But don't use more layers than you need. If adding more layers does not improve the model performance you don't need additional layers.\n",
        "* Adjust the learning rate when you compile the model. This means you will create a custom `tf.keras.optimizers.Adam` instance where you specify the learning rate you want. Then pass the instance to `model.compile` as the optimizer.\n",
        "    * `tf.keras.optimizers.Adam` [reference](https://www.tensorflow.org/api_docs/python/tf/keras/optimizers/Adam).\n",
        "    * Don't worry if you don't understand what the learning rate does. You'll learn about it in the next challenge.\n",
        "* Adjust the number of epochs when you fit the training data to the model. Your model performance continues to improve as you train more epochs. But eventually it will reach the ceiling and the performance will stay the same."
      ]
    },
    {
      "cell_type": "code",
      "execution_count": 27,
      "metadata": {
        "id": "vqeAWLAkY3tA"
      },
      "outputs": [],
      "source": [
        "custom_optimizer = tf.keras.optimizers.Adam(learning_rate=0.001)"
      ]
    },
    {
      "cell_type": "code",
      "source": [
        "model.compile(optimizer=custom_optimizer, loss='sparse_categorical_crossentropy', metrics=['accuracy'])"
      ],
      "metadata": {
        "id": "6L5mrrjbb5md"
      },
      "execution_count": 28,
      "outputs": []
    },
    {
      "cell_type": "code",
      "source": [
        "model.fit(X_train, y_train, epochs=100, batch_size=32, verbose=1)"
      ],
      "metadata": {
        "colab": {
          "base_uri": "https://localhost:8080/"
        },
        "id": "My7nbdXXb7z4",
        "outputId": "17cd520c-1079-4375-a2f2-5bb7a3097b56"
      },
      "execution_count": 29,
      "outputs": [
        {
          "output_type": "stream",
          "name": "stdout",
          "text": [
            "Epoch 1/100\n",
            "24/24 [==============================] - 1s 1ms/step - loss: 0.0094 - accuracy: 1.0000\n",
            "Epoch 2/100\n",
            "24/24 [==============================] - 0s 1ms/step - loss: 0.0065 - accuracy: 1.0000\n",
            "Epoch 3/100\n",
            "24/24 [==============================] - 0s 1ms/step - loss: 0.0043 - accuracy: 1.0000\n",
            "Epoch 4/100\n",
            "24/24 [==============================] - 0s 1ms/step - loss: 0.0036 - accuracy: 1.0000\n",
            "Epoch 5/100\n",
            "24/24 [==============================] - 0s 1ms/step - loss: 0.0030 - accuracy: 1.0000\n",
            "Epoch 6/100\n",
            "24/24 [==============================] - 0s 1ms/step - loss: 0.0025 - accuracy: 1.0000\n",
            "Epoch 7/100\n",
            "24/24 [==============================] - 0s 1ms/step - loss: 0.0021 - accuracy: 1.0000\n",
            "Epoch 8/100\n",
            "24/24 [==============================] - 0s 1ms/step - loss: 0.0017 - accuracy: 1.0000\n",
            "Epoch 9/100\n",
            "24/24 [==============================] - 0s 1ms/step - loss: 0.0016 - accuracy: 1.0000\n",
            "Epoch 10/100\n",
            "24/24 [==============================] - 0s 2ms/step - loss: 0.0015 - accuracy: 1.0000\n",
            "Epoch 11/100\n",
            "24/24 [==============================] - 0s 1ms/step - loss: 0.0012 - accuracy: 1.0000\n",
            "Epoch 12/100\n",
            "24/24 [==============================] - 0s 1ms/step - loss: 0.0011 - accuracy: 1.0000\n",
            "Epoch 13/100\n",
            "24/24 [==============================] - 0s 1ms/step - loss: 9.7426e-04 - accuracy: 1.0000\n",
            "Epoch 14/100\n",
            "24/24 [==============================] - 0s 1ms/step - loss: 8.5608e-04 - accuracy: 1.0000\n",
            "Epoch 15/100\n",
            "24/24 [==============================] - 0s 1ms/step - loss: 7.3659e-04 - accuracy: 1.0000\n",
            "Epoch 16/100\n",
            "24/24 [==============================] - 0s 1ms/step - loss: 6.7791e-04 - accuracy: 1.0000\n",
            "Epoch 17/100\n",
            "24/24 [==============================] - 0s 1ms/step - loss: 6.0917e-04 - accuracy: 1.0000\n",
            "Epoch 18/100\n",
            "24/24 [==============================] - 0s 1ms/step - loss: 5.5625e-04 - accuracy: 1.0000\n",
            "Epoch 19/100\n",
            "24/24 [==============================] - 0s 1ms/step - loss: 5.1072e-04 - accuracy: 1.0000\n",
            "Epoch 20/100\n",
            "24/24 [==============================] - 0s 1ms/step - loss: 4.6929e-04 - accuracy: 1.0000\n",
            "Epoch 21/100\n",
            "24/24 [==============================] - 0s 1ms/step - loss: 4.3186e-04 - accuracy: 1.0000\n",
            "Epoch 22/100\n",
            "24/24 [==============================] - 0s 1ms/step - loss: 4.0181e-04 - accuracy: 1.0000\n",
            "Epoch 23/100\n",
            "24/24 [==============================] - 0s 1ms/step - loss: 3.6894e-04 - accuracy: 1.0000\n",
            "Epoch 24/100\n",
            "24/24 [==============================] - 0s 1ms/step - loss: 3.4480e-04 - accuracy: 1.0000\n",
            "Epoch 25/100\n",
            "24/24 [==============================] - 0s 1ms/step - loss: 3.2068e-04 - accuracy: 1.0000\n",
            "Epoch 26/100\n",
            "24/24 [==============================] - 0s 1ms/step - loss: 3.0160e-04 - accuracy: 1.0000\n",
            "Epoch 27/100\n",
            "24/24 [==============================] - 0s 1ms/step - loss: 2.7812e-04 - accuracy: 1.0000\n",
            "Epoch 28/100\n",
            "24/24 [==============================] - 0s 1ms/step - loss: 2.5934e-04 - accuracy: 1.0000\n",
            "Epoch 29/100\n",
            "24/24 [==============================] - 0s 1ms/step - loss: 2.4418e-04 - accuracy: 1.0000\n",
            "Epoch 30/100\n",
            "24/24 [==============================] - 0s 1ms/step - loss: 2.2898e-04 - accuracy: 1.0000\n",
            "Epoch 31/100\n",
            "24/24 [==============================] - 0s 1ms/step - loss: 2.1327e-04 - accuracy: 1.0000\n",
            "Epoch 32/100\n",
            "24/24 [==============================] - 0s 1ms/step - loss: 2.0435e-04 - accuracy: 1.0000\n",
            "Epoch 33/100\n",
            "24/24 [==============================] - 0s 1ms/step - loss: 1.9290e-04 - accuracy: 1.0000\n",
            "Epoch 34/100\n",
            "24/24 [==============================] - 0s 1ms/step - loss: 1.8168e-04 - accuracy: 1.0000\n",
            "Epoch 35/100\n",
            "24/24 [==============================] - 0s 1ms/step - loss: 1.6989e-04 - accuracy: 1.0000\n",
            "Epoch 36/100\n",
            "24/24 [==============================] - 0s 1ms/step - loss: 1.6476e-04 - accuracy: 1.0000\n",
            "Epoch 37/100\n",
            "24/24 [==============================] - 0s 1ms/step - loss: 1.5339e-04 - accuracy: 1.0000\n",
            "Epoch 38/100\n",
            "24/24 [==============================] - 0s 1ms/step - loss: 1.4647e-04 - accuracy: 1.0000\n",
            "Epoch 39/100\n",
            "24/24 [==============================] - 0s 2ms/step - loss: 1.3919e-04 - accuracy: 1.0000\n",
            "Epoch 40/100\n",
            "24/24 [==============================] - 0s 1ms/step - loss: 1.3422e-04 - accuracy: 1.0000\n",
            "Epoch 41/100\n",
            "24/24 [==============================] - 0s 1ms/step - loss: 1.2705e-04 - accuracy: 1.0000\n",
            "Epoch 42/100\n",
            "24/24 [==============================] - 0s 1ms/step - loss: 1.2046e-04 - accuracy: 1.0000\n",
            "Epoch 43/100\n",
            "24/24 [==============================] - 0s 1ms/step - loss: 1.1431e-04 - accuracy: 1.0000\n",
            "Epoch 44/100\n",
            "24/24 [==============================] - 0s 1ms/step - loss: 1.1202e-04 - accuracy: 1.0000\n",
            "Epoch 45/100\n",
            "24/24 [==============================] - 0s 1ms/step - loss: 1.0560e-04 - accuracy: 1.0000\n",
            "Epoch 46/100\n",
            "24/24 [==============================] - 0s 1ms/step - loss: 1.0094e-04 - accuracy: 1.0000\n",
            "Epoch 47/100\n",
            "24/24 [==============================] - 0s 1ms/step - loss: 9.6433e-05 - accuracy: 1.0000\n",
            "Epoch 48/100\n",
            "24/24 [==============================] - 0s 1ms/step - loss: 9.2001e-05 - accuracy: 1.0000\n",
            "Epoch 49/100\n",
            "24/24 [==============================] - 0s 1ms/step - loss: 8.8771e-05 - accuracy: 1.0000\n",
            "Epoch 50/100\n",
            "24/24 [==============================] - 0s 1ms/step - loss: 8.5112e-05 - accuracy: 1.0000\n",
            "Epoch 51/100\n",
            "24/24 [==============================] - 0s 1ms/step - loss: 8.1489e-05 - accuracy: 1.0000\n",
            "Epoch 52/100\n",
            "24/24 [==============================] - 0s 1ms/step - loss: 7.9581e-05 - accuracy: 1.0000\n",
            "Epoch 53/100\n",
            "24/24 [==============================] - 0s 1ms/step - loss: 7.5889e-05 - accuracy: 1.0000\n",
            "Epoch 54/100\n",
            "24/24 [==============================] - 0s 1ms/step - loss: 7.2771e-05 - accuracy: 1.0000\n",
            "Epoch 55/100\n",
            "24/24 [==============================] - 0s 1ms/step - loss: 7.0608e-05 - accuracy: 1.0000\n",
            "Epoch 56/100\n",
            "24/24 [==============================] - 0s 1ms/step - loss: 6.7306e-05 - accuracy: 1.0000\n",
            "Epoch 57/100\n",
            "24/24 [==============================] - 0s 1ms/step - loss: 6.4822e-05 - accuracy: 1.0000\n",
            "Epoch 58/100\n",
            "24/24 [==============================] - 0s 1ms/step - loss: 6.3338e-05 - accuracy: 1.0000\n",
            "Epoch 59/100\n",
            "24/24 [==============================] - 0s 1ms/step - loss: 6.0350e-05 - accuracy: 1.0000\n",
            "Epoch 60/100\n",
            "24/24 [==============================] - 0s 1ms/step - loss: 5.9051e-05 - accuracy: 1.0000\n",
            "Epoch 61/100\n",
            "24/24 [==============================] - 0s 1ms/step - loss: 5.7540e-05 - accuracy: 1.0000\n",
            "Epoch 62/100\n",
            "24/24 [==============================] - 0s 1ms/step - loss: 5.4996e-05 - accuracy: 1.0000\n",
            "Epoch 63/100\n",
            "24/24 [==============================] - 0s 1ms/step - loss: 5.3209e-05 - accuracy: 1.0000\n",
            "Epoch 64/100\n",
            "24/24 [==============================] - 0s 1ms/step - loss: 5.1031e-05 - accuracy: 1.0000\n",
            "Epoch 65/100\n",
            "24/24 [==============================] - 0s 1ms/step - loss: 4.9441e-05 - accuracy: 1.0000\n",
            "Epoch 66/100\n",
            "24/24 [==============================] - 0s 1ms/step - loss: 4.7788e-05 - accuracy: 1.0000\n",
            "Epoch 67/100\n",
            "24/24 [==============================] - 0s 1ms/step - loss: 4.6633e-05 - accuracy: 1.0000\n",
            "Epoch 68/100\n",
            "24/24 [==============================] - 0s 2ms/step - loss: 4.5089e-05 - accuracy: 1.0000\n",
            "Epoch 69/100\n",
            "24/24 [==============================] - 0s 1ms/step - loss: 4.3538e-05 - accuracy: 1.0000\n",
            "Epoch 70/100\n",
            "24/24 [==============================] - 0s 1ms/step - loss: 4.2044e-05 - accuracy: 1.0000\n",
            "Epoch 71/100\n",
            "24/24 [==============================] - 0s 2ms/step - loss: 4.0707e-05 - accuracy: 1.0000\n",
            "Epoch 72/100\n",
            "24/24 [==============================] - 0s 1ms/step - loss: 3.9925e-05 - accuracy: 1.0000\n",
            "Epoch 73/100\n",
            "24/24 [==============================] - 0s 1ms/step - loss: 3.8558e-05 - accuracy: 1.0000\n",
            "Epoch 74/100\n",
            "24/24 [==============================] - 0s 1ms/step - loss: 3.7493e-05 - accuracy: 1.0000\n",
            "Epoch 75/100\n",
            "24/24 [==============================] - 0s 1ms/step - loss: 3.6014e-05 - accuracy: 1.0000\n",
            "Epoch 76/100\n",
            "24/24 [==============================] - 0s 1ms/step - loss: 3.5219e-05 - accuracy: 1.0000\n",
            "Epoch 77/100\n",
            "24/24 [==============================] - 0s 1ms/step - loss: 3.4189e-05 - accuracy: 1.0000\n",
            "Epoch 78/100\n",
            "24/24 [==============================] - 0s 1ms/step - loss: 3.3166e-05 - accuracy: 1.0000\n",
            "Epoch 79/100\n",
            "24/24 [==============================] - 0s 1ms/step - loss: 3.2421e-05 - accuracy: 1.0000\n",
            "Epoch 80/100\n",
            "24/24 [==============================] - 0s 1ms/step - loss: 3.1558e-05 - accuracy: 1.0000\n",
            "Epoch 81/100\n",
            "24/24 [==============================] - 0s 1ms/step - loss: 3.0668e-05 - accuracy: 1.0000\n",
            "Epoch 82/100\n",
            "24/24 [==============================] - 0s 1ms/step - loss: 2.9695e-05 - accuracy: 1.0000\n",
            "Epoch 83/100\n",
            "24/24 [==============================] - 0s 1ms/step - loss: 2.9353e-05 - accuracy: 1.0000\n",
            "Epoch 84/100\n",
            "24/24 [==============================] - 0s 1ms/step - loss: 2.8323e-05 - accuracy: 1.0000\n",
            "Epoch 85/100\n",
            "24/24 [==============================] - 0s 1ms/step - loss: 2.7697e-05 - accuracy: 1.0000\n",
            "Epoch 86/100\n",
            "24/24 [==============================] - 0s 1ms/step - loss: 2.6668e-05 - accuracy: 1.0000\n",
            "Epoch 87/100\n",
            "24/24 [==============================] - 0s 1ms/step - loss: 2.6112e-05 - accuracy: 1.0000\n",
            "Epoch 88/100\n",
            "24/24 [==============================] - 0s 1ms/step - loss: 2.5407e-05 - accuracy: 1.0000\n",
            "Epoch 89/100\n",
            "24/24 [==============================] - 0s 1ms/step - loss: 2.4847e-05 - accuracy: 1.0000\n",
            "Epoch 90/100\n",
            "24/24 [==============================] - 0s 1ms/step - loss: 2.4169e-05 - accuracy: 1.0000\n",
            "Epoch 91/100\n",
            "24/24 [==============================] - 0s 1ms/step - loss: 2.3546e-05 - accuracy: 1.0000\n",
            "Epoch 92/100\n",
            "24/24 [==============================] - 0s 1ms/step - loss: 2.3103e-05 - accuracy: 1.0000\n",
            "Epoch 93/100\n",
            "24/24 [==============================] - 0s 1ms/step - loss: 2.2736e-05 - accuracy: 1.0000\n",
            "Epoch 94/100\n",
            "24/24 [==============================] - 0s 1ms/step - loss: 2.1945e-05 - accuracy: 1.0000\n",
            "Epoch 95/100\n",
            "24/24 [==============================] - 0s 1ms/step - loss: 2.1365e-05 - accuracy: 1.0000\n",
            "Epoch 96/100\n",
            "24/24 [==============================] - 0s 2ms/step - loss: 2.0804e-05 - accuracy: 1.0000\n",
            "Epoch 97/100\n",
            "24/24 [==============================] - 0s 1ms/step - loss: 2.0330e-05 - accuracy: 1.0000\n",
            "Epoch 98/100\n",
            "24/24 [==============================] - 0s 1ms/step - loss: 1.9923e-05 - accuracy: 1.0000\n",
            "Epoch 99/100\n",
            "24/24 [==============================] - 0s 1ms/step - loss: 1.9526e-05 - accuracy: 1.0000\n",
            "Epoch 100/100\n",
            "24/24 [==============================] - 0s 1ms/step - loss: 1.9069e-05 - accuracy: 1.0000\n"
          ]
        },
        {
          "output_type": "execute_result",
          "data": {
            "text/plain": [
              "<keras.src.callbacks.History at 0x7d28453cd030>"
            ]
          },
          "metadata": {},
          "execution_count": 29
        }
      ]
    },
    {
      "cell_type": "code",
      "source": [
        "test_loss, test_accuracy = model.evaluate(X_test, y_test)"
      ],
      "metadata": {
        "colab": {
          "base_uri": "https://localhost:8080/"
        },
        "id": "8hsQR-ezbXQW",
        "outputId": "ec6566c0-e458-4591-8974-ab9b4c821202"
      },
      "execution_count": 30,
      "outputs": [
        {
          "output_type": "stream",
          "name": "stdout",
          "text": [
            "6/6 [==============================] - 0s 2ms/step - loss: 0.1555 - accuracy: 0.9635\n"
          ]
        }
      ]
    },
    {
      "cell_type": "code",
      "source": [
        "test_accuracy"
      ],
      "metadata": {
        "colab": {
          "base_uri": "https://localhost:8080/"
        },
        "id": "peQgmrCJcBP8",
        "outputId": "ec2fcade-41ad-4fbc-fdbb-4558dfbd7f8d"
      },
      "execution_count": 31,
      "outputs": [
        {
          "output_type": "execute_result",
          "data": {
            "text/plain": [
              "0.9635416865348816"
            ]
          },
          "metadata": {},
          "execution_count": 31
        }
      ]
    },
    {
      "cell_type": "markdown",
      "metadata": {
        "id": "CNE9R-6lY3tA"
      },
      "source": [
        "**Which approach(es) did you find helpful to improve your model performance?**"
      ]
    },
    {
      "cell_type": "markdown",
      "source": [
        "Adjusting the learning rate and training for more epochs were the helpful approaches in improving the model performance."
      ],
      "metadata": {
        "id": "VM0ldGzocn-p"
      }
    }
  ],
  "metadata": {
    "kernelspec": {
      "display_name": "Python 3",
      "language": "python",
      "name": "python3"
    },
    "language_info": {
      "codemirror_mode": {
        "name": "ipython",
        "version": 3
      },
      "file_extension": ".py",
      "mimetype": "text/x-python",
      "name": "python",
      "nbconvert_exporter": "python",
      "pygments_lexer": "ipython3",
      "version": "3.7.3"
    },
    "colab": {
      "provenance": []
    }
  },
  "nbformat": 4,
  "nbformat_minor": 0
}